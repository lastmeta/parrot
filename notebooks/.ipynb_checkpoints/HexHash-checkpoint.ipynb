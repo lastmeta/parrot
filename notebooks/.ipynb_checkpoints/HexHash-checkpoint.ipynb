{
 "cells": [
  {
   "cell_type": "code",
   "execution_count": 1,
   "metadata": {},
   "outputs": [
    {
     "data": {
      "text/plain": [
       "-2375001702016723863"
      ]
     },
     "execution_count": 1,
     "metadata": {},
     "output_type": "execute_result"
    }
   ],
   "source": [
    "hash('a')"
   ]
  },
  {
   "cell_type": "code",
   "execution_count": 2,
   "metadata": {},
   "outputs": [
    {
     "data": {
      "text/plain": [
       "383922312178466671"
      ]
     },
     "execution_count": 2,
     "metadata": {},
     "output_type": "execute_result"
    }
   ],
   "source": [
    "hash('b')"
   ]
  },
  {
   "cell_type": "code",
   "execution_count": 3,
   "metadata": {},
   "outputs": [
    {
     "data": {
      "text/plain": [
       "5985421436311961627"
      ]
     },
     "execution_count": 3,
     "metadata": {},
     "output_type": "execute_result"
    }
   ],
   "source": [
    "hash('c')"
   ]
  },
  {
   "cell_type": "code",
   "execution_count": 7,
   "metadata": {},
   "outputs": [],
   "source": [
    "def hash_this(data: str, mode='md5'):\n",
    "    import hashlib\n",
    "    h = hashlib.new(mode)\n",
    "    h.update(data.encode('utf-8'))\n",
    "    return h.hexdigest()"
   ]
  },
  {
   "cell_type": "code",
   "execution_count": 12,
   "metadata": {},
   "outputs": [
    {
     "data": {
      "text/plain": [
       "'0cc175b9c0f1b6a831c399e269772661'"
      ]
     },
     "execution_count": 12,
     "metadata": {},
     "output_type": "execute_result"
    }
   ],
   "source": [
    "hash_this('a')"
   ]
  },
  {
   "cell_type": "code",
   "execution_count": 10,
   "metadata": {},
   "outputs": [
    {
     "data": {
      "text/plain": [
       "'92eb5ffee6ae2fec3ad71c777531578f'"
      ]
     },
     "execution_count": 10,
     "metadata": {},
     "output_type": "execute_result"
    }
   ],
   "source": [
    "hash_this('b')"
   ]
  },
  {
   "cell_type": "code",
   "execution_count": 11,
   "metadata": {},
   "outputs": [
    {
     "data": {
      "text/plain": [
       "'4a8a08f09d37b73795649038408b5f33'"
      ]
     },
     "execution_count": 11,
     "metadata": {},
     "output_type": "execute_result"
    }
   ],
   "source": [
    "hash_this('c')"
   ]
  },
  {
   "cell_type": "markdown",
   "metadata": {},
   "source": [
    "imagine... this was our real data (they're not hashes they're real data, like frames in a movie), so we like them in this order:\n",
    "```\n",
    "1. 0cc175b9c0f1b6a831c399e269772661 \n",
    "2. 92eb5ffee6ae2fec3ad71c777531578f \n",
    "3. 4a8a08f09d37b73795649038408b5f33\n",
    "```"
   ]
  },
  {
   "cell_type": "code",
   "execution_count": 13,
   "metadata": {},
   "outputs": [
    {
     "data": {
      "text/plain": [
       "'d7afde3e7059cd0a0fe09eec4b0008cd'"
      ]
     },
     "execution_count": 13,
     "metadata": {},
     "output_type": "execute_result"
    }
   ],
   "source": [
    "hash_this(hash_this('a'))"
   ]
  },
  {
   "cell_type": "code",
   "execution_count": 14,
   "metadata": {},
   "outputs": [
    {
     "data": {
      "text/plain": [
       "'54f74fbfb94518a527a36474dc904c25'"
      ]
     },
     "execution_count": 14,
     "metadata": {},
     "output_type": "execute_result"
    }
   ],
   "source": [
    "hash_this(hash_this(hash_this('a')))"
   ]
  },
  {
   "cell_type": "markdown",
   "metadata": {},
   "source": [
    "notice if we send in the first frame we get a new frame, a hash:\n",
    "```\n",
    "0cc175b9c0f1b6a831c399e269772661 -> d7afde3e7059cd0a0fe09eec4b0008cd -> 54f74fbfb94518a527a36474dc904c25\n",
    "```"
   ]
  },
  {
   "cell_type": "code",
   "execution_count": 15,
   "metadata": {},
   "outputs": [
    {
     "data": {
      "text/plain": [
       "'dc0ae7e1387be9b795f5d6299e383759'"
      ]
     },
     "execution_count": 15,
     "metadata": {},
     "output_type": "execute_result"
    }
   ],
   "source": [
    "hash_this(hash_this('b'))"
   ]
  },
  {
   "cell_type": "markdown",
   "metadata": {},
   "source": [
    "we can even do this with the second frame:\n",
    "```\n",
    "92eb5ffee6ae2fec3ad71c777531578f -> dc0ae7e1387be9b795f5d6299e383759\n",
    "```"
   ]
  },
  {
   "cell_type": "markdown",
   "metadata": {},
   "source": [
    "I'm searching for a way to rotate the space automatically, to calculate or deduce the parameters to the hash function that gives me the ordered hashes I want...\n",
    "\n",
    "seems like there should be a straightforward, albeit possibly very complex, way to triangulate the space that produces\n",
    "```\n",
    "0cc175b9c0f1b6a831c399e269772661 -> 92eb5ffee6ae2fec3ad71c777531578f -> 4a8a08f09d37b73795649038408b5f33\n",
    "```"
   ]
  },
  {
   "cell_type": "markdown",
   "metadata": {},
   "source": [
    "I'm not sure what kind of information about the hash space I need to produce in order to perform that triangulation though...\n",
    "\n",
    "But surely there is a large string, that if I prepend every frame with it, will give me the next frame...\n",
    "\n",
    "and since the combinatorial space grows so much faster than the length of the string, I don't think that string is as large as a concatenated list of variable unique prepended strings for each frame (which only lead to the next).\n",
    "\n",
    "Thus if I could triangulate this parameter, I could compress the data.\n",
    "\n",
    "But perhaps I've made an oversight in judgement...\n"
   ]
  },
  {
   "cell_type": "code",
   "execution_count": null,
   "metadata": {},
   "outputs": [],
   "source": []
  }
 ],
 "metadata": {
  "kernelspec": {
   "display_name": "Python 3",
   "language": "python",
   "name": "python3"
  },
  "language_info": {
   "codemirror_mode": {
    "name": "ipython",
    "version": 3
   },
   "file_extension": ".py",
   "mimetype": "text/x-python",
   "name": "python",
   "nbconvert_exporter": "python",
   "pygments_lexer": "ipython3",
   "version": "3.8.4"
  }
 },
 "nbformat": 4,
 "nbformat_minor": 4
}
